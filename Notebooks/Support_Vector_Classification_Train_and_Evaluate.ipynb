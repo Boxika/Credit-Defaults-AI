{
  "nbformat": 4,
  "nbformat_minor": 0,
  "metadata": {
    "colab": {
      "provenance": []
    },
    "kernelspec": {
      "name": "python3",
      "display_name": "Python 3"
    },
    "language_info": {
      "name": "python"
    }
  },
  "cells": [
    {
      "cell_type": "markdown",
      "source": [
        "# Support Vector Classification Training and Evaluation Notebook\n",
        "\n",
        "This notebook documents the training and evaluation of a Support Vector Classification (SVC) model for predicting credit default using the Default of Credit Card Clients Dataset. The SVC model is particularly useful for binary classification tasks and works well with high-dimensional datasets."
      ],
      "metadata": {
        "id": "Z3MAkCT2Oinq"
      }
    },
    {
      "cell_type": "markdown",
      "source": [
        "## Installation of Dependencies\n",
        "\n",
        "This will load all libraries necessary to run the script."
      ],
      "metadata": {
        "id": "N6tB4ypLO49H"
      }
    },
    {
      "cell_type": "code",
      "source": [
        "# Install necessary libraries\n",
        "!pip install pandas scikit-learn imblearn joblib"
      ],
      "metadata": {
        "id": "R8WjTfr-PeXe"
      },
      "execution_count": null,
      "outputs": []
    },
    {
      "cell_type": "code",
      "source": [
        "import pandas as pd\n",
        "import numpy as np\n",
        "from sklearn.preprocessing import StandardScaler\n",
        "from scipy import stats\n",
        "from sklearn.model_selection import train_test_split\n",
        "import time\n",
        "from sklearn.svm import SVC\n",
        "from sklearn.model_selection import GridSearchCV\n",
        "from sklearn.metrics import roc_curve, auc, classification_report\n",
        "import matplotlib.pyplot as plt\n",
        "from sklearn.metrics import roc_curve, auc, classification_report, accuracy_score, confusion_matrix\n",
        "import matplotlib.pyplot as plt\n",
        "\n"
      ],
      "metadata": {
        "id": "8C8UZjRCPflU"
      },
      "execution_count": null,
      "outputs": []
    },
    {
      "cell_type": "markdown",
      "source": [
        "## Loading and Preprocessing Data"
      ],
      "metadata": {
        "id": "BDRsbdH7Pvgx"
      }
    },
    {
      "cell_type": "code",
      "source": [
        "drive.mount('/content/drive')\n",
        "\n",
        "# Load the dataset\n",
        "file_path = '/content/drive/My Drive/VCRK Credit Defaults/Datasets/UCI_Credit_Card.csv'\n",
        "data = pd.read_csv(file_path)\n",
        "\n",
        "# Randomly sample 5000 data points\n",
        "sampled_data = data.sample(n=5000, random_state=42)\n",
        "\n",
        "# Split the data\n",
        "X = sampled_data.drop(columns=['ID', 'default.payment.next.month'])\n",
        "y = sampled_data['default.payment.next.month']\n",
        "\n",
        "# Split into training and testing sets\n",
        "X_train, X_test, y_train, y_test = train_test_split(X, y, test_size=0.2, random_state=42)\n",
        "\n",
        "# Standardize the features\n",
        "scaler = StandardScaler()\n",
        "X_train_scaled = scaler.fit_transform(X_train)\n",
        "X_test_scaled = scaler.transform(X_test)"
      ],
      "metadata": {
        "id": "EqoWNlAuP5_e"
      },
      "execution_count": null,
      "outputs": []
    },
    {
      "cell_type": "markdown",
      "source": [
        "### Data Cleaning\n",
        "\n",
        "This code snippet demonstrates a comprehensive data cleaning process. First, it handles missing values by filling numerical columns with the median and categorical columns with the mode. It then removes outliers from numerical columns using the Interquartile Range (IQR) method. The code also addresses inconsistent data entries by ensuring categorical columns like 'SEX', 'EDUCATION', and 'MARRIAGE' contain only valid values. Negative payment amounts are converted to zero for consistency. Finally, the index is reset, and the cleaned dataset is saved to a specified file path. A summary of missing values and data statistics is printed to verify the cleaning process.\n",
        "\n",
        "\n",
        "\n",
        "\n",
        "\n",
        "\n",
        "\n"
      ],
      "metadata": {
        "id": "tNHODFGiQBrT"
      }
    },
    {
      "cell_type": "code",
      "source": [
        "# 1. Handling missing values\n",
        "# Check for missing values\n",
        "missing_values = data.isnull().sum()\n",
        "\n",
        "# Fill missing values with median for numerical columns and mode for categorical columns\n",
        "for column in data.columns:\n",
        "    if data[column].dtype == 'object':\n",
        "        data[column].fillna(data[column].mode()[0], inplace=True)\n",
        "    else:\n",
        "        data[column].fillna(data[column].median(), inplace=True)\n",
        "\n",
        "# 2. Handling outliers\n",
        "# Define a function to remove outliers based on the IQR method\n",
        "def remove_outliers(df, column):\n",
        "    Q1 = df[column].quantile(0.25)\n",
        "    Q3 = df[column].quantile(0.75)\n",
        "    IQR = Q3 - Q1\n",
        "    lower_bound = Q1 - 1.5 * IQR\n",
        "    upper_bound = Q3 + 1.5 * IQR\n",
        "    df = df[(df[column] >= lower_bound) & (df[column] <= upper_bound)]\n",
        "    return df\n",
        "\n",
        "# Apply the function to numerical columns\n",
        "numerical_columns = data.select_dtypes(include=[np.number]).columns.tolist()\n",
        "for col in numerical_columns:\n",
        "    data = remove_outliers(data, col)\n",
        "\n",
        "# 3. Handling inconsistent data entries\n",
        "# For categorical columns, check for inconsistent entries and correct them\n",
        "# Example: 'SEX' column should only have values 1 and 2\n",
        "data = data[(data['SEX'] == 1) | (data['SEX'] == 2)]\n",
        "\n",
        "# Example: 'EDUCATION' column should have values 1 to 4\n",
        "data = data[data['EDUCATION'].isin([1, 2, 3, 4])]\n",
        "\n",
        "# Example: 'MARRIAGE' column should have values 1 to 3\n",
        "data = data[data['MARRIAGE'].isin([1, 2, 3])]\n",
        "\n",
        "# 4. Handle negative payment amounts by converting them to zero\n",
        "pay_columns = [f'PAY_AMT{i}' for i in range(1, 7)]\n",
        "for col in pay_columns:\n",
        "    data[col] = data[col].apply(lambda x: max(x, 0))\n",
        "\n",
        "# 5. Reset index after cleaning\n",
        "data.reset_index(drop=True, inplace=True)\n",
        "\n",
        "# Save the cleaned dataset\n",
        "cleaned_file_path = 'path/to/Cleaned_UCI_Credit_Card.csv' # Update this path\n",
        "data.to_csv(cleaned_file_path, index=False)\n",
        "\n",
        "# Display the cleaned data and summary\n",
        "print(f\"Missing values after cleaning:\\n{data.isnull().sum()}\")\n",
        "print(f\"Data summary after cleaning:\\n{data.describe()}\")\n"
      ],
      "metadata": {
        "colab": {
          "base_uri": "https://localhost:8080/"
        },
        "id": "lIN7ftiGPsJd",
        "outputId": "ad203ac3-4cc9-4a8d-9afb-0c35a4211dab"
      },
      "execution_count": null,
      "outputs": [
        {
          "output_type": "stream",
          "name": "stdout",
          "text": [
            "Missing values after cleaning:\n",
            "ID                            0\n",
            "LIMIT_BAL                     0\n",
            "SEX                           0\n",
            "EDUCATION                     0\n",
            "MARRIAGE                      0\n",
            "AGE                           0\n",
            "PAY_0                         0\n",
            "PAY_2                         0\n",
            "PAY_3                         0\n",
            "PAY_4                         0\n",
            "PAY_5                         0\n",
            "PAY_6                         0\n",
            "BILL_AMT1                     0\n",
            "BILL_AMT2                     0\n",
            "BILL_AMT3                     0\n",
            "BILL_AMT4                     0\n",
            "BILL_AMT5                     0\n",
            "BILL_AMT6                     0\n",
            "PAY_AMT1                      0\n",
            "PAY_AMT2                      0\n",
            "PAY_AMT3                      0\n",
            "PAY_AMT4                      0\n",
            "PAY_AMT5                      0\n",
            "PAY_AMT6                      0\n",
            "default.payment.next.month    0\n",
            "dtype: int64\n",
            "Data summary after cleaning:\n",
            "                 ID      LIMIT_BAL          SEX    EDUCATION     MARRIAGE  \\\n",
            "count   7093.000000    7093.000000  7093.000000  7093.000000  7093.000000   \n",
            "mean   14801.597913  136839.137177     1.610179     1.833075     1.566474   \n",
            "std     8720.775700  110514.954630     0.487744     0.695279     0.518946   \n",
            "min        4.000000   10000.000000     1.000000     1.000000     1.000000   \n",
            "25%     7267.000000   50000.000000     1.000000     1.000000     1.000000   \n",
            "50%    14643.000000  100000.000000     2.000000     2.000000     2.000000   \n",
            "75%    22261.000000  200000.000000     2.000000     2.000000     2.000000   \n",
            "max    29993.000000  510000.000000     2.000000     3.000000     3.000000   \n",
            "\n",
            "               AGE        PAY_0        PAY_2        PAY_3        PAY_4  ...  \\\n",
            "count  7093.000000  7093.000000  7093.000000  7093.000000  7093.000000  ...   \n",
            "mean     35.025377    -0.364726    -0.638094    -0.697025    -0.733963  ...   \n",
            "std       9.127361     0.843463     0.808861     0.838807     0.858009  ...   \n",
            "min      21.000000    -2.000000    -2.000000    -2.000000    -2.000000  ...   \n",
            "25%      27.000000    -1.000000    -1.000000    -1.000000    -2.000000  ...   \n",
            "50%      33.000000     0.000000     0.000000     0.000000     0.000000  ...   \n",
            "75%      41.000000     0.000000     0.000000     0.000000     0.000000  ...   \n",
            "max      60.000000     1.000000     1.000000     0.000000     0.000000  ...   \n",
            "\n",
            "          BILL_AMT4     BILL_AMT5     BILL_AMT6     PAY_AMT1     PAY_AMT2  \\\n",
            "count   7093.000000   7093.000000   7093.000000  7093.000000  7093.000000   \n",
            "mean   13342.608346  11486.707317  10536.029607  1574.094318  1400.285211   \n",
            "std    16539.254891  14505.137286  13953.669768  1372.567324  1225.013632   \n",
            "min    -7905.000000 -10213.000000 -11610.000000     0.000000     0.000000   \n",
            "25%        0.000000      0.000000      0.000000   360.000000   222.000000   \n",
            "50%     4038.000000   2599.000000   1707.000000  1500.000000  1361.000000   \n",
            "75%    23221.000000  19860.000000  19345.000000  2060.000000  2000.000000   \n",
            "max    74100.000000  59984.000000  49701.000000  7620.000000  6284.000000   \n",
            "\n",
            "          PAY_AMT3     PAY_AMT4     PAY_AMT5     PAY_AMT6  \\\n",
            "count  7093.000000  7093.000000  7093.000000  7093.000000   \n",
            "mean   1065.336811   850.130410   845.099112   792.690963   \n",
            "std    1030.804385   895.819363   900.422551   884.935305   \n",
            "min       0.000000     0.000000     0.000000     0.000000   \n",
            "25%       0.000000     0.000000     0.000000     0.000000   \n",
            "50%    1000.000000   661.000000   650.000000   544.000000   \n",
            "75%    1634.000000  1301.000000  1350.000000  1232.000000   \n",
            "max    5000.000000  4186.000000  4000.000000  3746.000000   \n",
            "\n",
            "       default.payment.next.month  \n",
            "count                      7093.0  \n",
            "mean                          0.0  \n",
            "std                           0.0  \n",
            "min                           0.0  \n",
            "25%                           0.0  \n",
            "50%                           0.0  \n",
            "75%                           0.0  \n",
            "max                           0.0  \n",
            "\n",
            "[8 rows x 25 columns]\n"
          ]
        }
      ]
    },
    {
      "cell_type": "markdown",
      "source": [
        "## Training the Model and Hyperparameter Tuning\n",
        "\n",
        "This code snippet demonstrates the process of hyperparameter tuning for a Support Vector Classifier (SVC) using GridSearchCV with class reweighting and time estimation for the tuning process. It begins by setting class_weights to 'balanced' to handle class imbalance. A parameter grid for hyperparameter tuning is defined, including options for C, class_weight, gamma, and kernel. An SVC model is initialized with the specified class weights. The code measures the time taken to fit the model with a single set of parameters using GridSearchCV. Based on this timing, it estimates the total time required for the entire grid search process. Finally, GridSearchCV is executed across the parameter grid, and the best parameters and estimator are printed."
      ],
      "metadata": {
        "id": "cDQes3KeO-U1"
      }
    },
    {
      "cell_type": "code",
      "source": [
        "# Class reweighting\n",
        "class_weights = 'balanced'\n",
        "\n",
        "# Define parameter grid for hyperparameter tuning\n",
        "param_grid = {\n",
        "    'C': [0.1, 1, 10,],\n",
        "    'class_weight': [None, 'balanced'],\n",
        "    'gamma': ['scale', 'auto'],\n",
        "    'kernel': ['linear', 'rbf']\n",
        "}\n",
        "\n",
        "# Initialize the SVC model\n",
        "svc = SVC(class_weight=class_weights, probability=True)\n",
        "\n",
        "# Create the GridSearchCV object with one set of parameters to time a single fit\n",
        "single_fit_grid_search = GridSearchCV(svc, param_grid={'C': [1], 'gamma': [0.1], 'kernel': ['rbf']}, cv=5, scoring='roc_auc', n_jobs=-1, verbose=3)\n",
        "\n",
        "# Measure the time taken to fit the model with one set of parameters\n",
        "start_time = time.time()\n",
        "single_fit_grid_search.fit(X_train_scaled, y_train)\n",
        "end_time = time.time()\n",
        "\n",
        "# Calculate the elapsed time for one fit\n",
        "single_fit_time = end_time - start_time\n",
        "print(f\"Time taken for a single fit: {single_fit_time:.2f} seconds\")\n",
        "\n",
        "# Calculate total number of fits\n",
        "n_fits = len(param_grid['C']) * len(param_grid['gamma']) * len(param_grid['kernel']) * 5  # 5-fold cross-validation\n",
        "\n",
        "# Estimate the total time for all fits\n",
        "estimated_total_time = single_fit_time * n_fits\n",
        "print(f\"Estimated total time for GridSearchCV: {estimated_total_time:.2f} seconds\")\n",
        "\n",
        "# Hyperparameter tuning using GridSearchCV\n",
        "grid_search = GridSearchCV(svc, param_grid, cv=5, scoring='roc_auc', n_jobs=-1, verbose=3)\n",
        "grid_search.fit(X_train_scaled, y_train)\n",
        "\n",
        "# Best parameters and best estimator\n",
        "best_params = grid_search.best_params_\n",
        "best_svc = grid_search.best_estimator_\n",
        "\n",
        "print(f'Best parameters: {best_params}')\n"
      ],
      "metadata": {
        "id": "9PYRTFpVPAxf",
        "colab": {
          "base_uri": "https://localhost:8080/"
        },
        "outputId": "da39407d-3c7a-44f3-af5c-3538055c3b2a"
      },
      "execution_count": null,
      "outputs": [
        {
          "output_type": "stream",
          "name": "stdout",
          "text": [
            "Fitting 5 folds for each of 1 candidates, totalling 5 fits\n",
            "Time taken for a single fit: 26.43 seconds\n",
            "Estimated total time for GridSearchCV: 1585.69 seconds\n",
            "Fitting 5 folds for each of 24 candidates, totalling 120 fits\n",
            "Best parameters: {'C': 1, 'class_weight': 'balanced', 'gamma': 'scale', 'kernel': 'rbf'}\n"
          ]
        }
      ]
    },
    {
      "cell_type": "markdown",
      "source": [
        "## Evaluating the Model\n",
        "\n",
        "This code snippet evaluates the performance of the best SVC model on the test dataset. It predicts the probabilities of the positive class, computes the ROC curve and AUC, and plots the ROC curve. Additionally, it calculates and prints key evaluation metrics such as accuracy, confusion matrix, and classification report."
      ],
      "metadata": {
        "id": "BaVmvjGxPCsT"
      }
    },
    {
      "cell_type": "code",
      "source": [
        "# Predict probabilities\n",
        "y_probs = best_svc.predict_proba(X_test_scaled)[:, 1]\n",
        "\n",
        "# ROC curve and AUC\n",
        "fpr, tpr, _ = roc_curve(y_test, y_probs)\n",
        "roc_auc = auc(fpr, tpr)\n",
        "\n",
        "# Plot ROC curve\n",
        "plt.figure()\n",
        "plt.plot(fpr, tpr, color='darkorange', lw=2, label=f'ROC curve (area = {roc_auc:.2f})')\n",
        "plt.plot([0, 1], [0, 1], color='navy', lw=2, linestyle='--')\n",
        "plt.xlim([0.0, 1.0])\n",
        "plt.ylim([0.0, 1.05])\n",
        "plt.xlabel('False Positive Rate')\n",
        "plt.ylabel('True Positive Rate')\n",
        "plt.title('Receiver Operating Characteristic')\n",
        "plt.legend(loc='lower right')\n",
        "plt.show()\n",
        "\n",
        "# Print evaluation metrics\n",
        "y_pred = best_svc.predict(X_test_scaled)\n",
        "print('Accuracy:', accuracy_score(y_test, y_pred))\n",
        "print('Confusion Matrix:\\n', confusion_matrix(y_test, y_pred))\n",
        "print('Classification Report:\\n', classification_report(y_test, y_pred))\n"
      ],
      "metadata": {
        "id": "1QnJEgYHPEHf",
        "colab": {
          "base_uri": "https://localhost:8080/",
          "height": 715
        },
        "outputId": "e42a7950-6ba2-4d57-d52d-be16f5affc18"
      },
      "execution_count": null,
      "outputs": [
        {
          "output_type": "display_data",
          "data": {
            "text/plain": [
              "<Figure size 640x480 with 1 Axes>"
            ],
            "image/png": "[encoded data removed]"
          },
          "metadata": {}
        },
        {
          "output_type": "stream",
          "name": "stdout",
          "text": [
            "Accuracy: 0.781\n",
            "Confusion Matrix:\n",
            " [[644 135]\n",
            " [ 84 137]]\n",
            "Classification Report:\n",
            "               precision    recall  f1-score   support\n",
            "\n",
            "           0       0.88      0.83      0.85       779\n",
            "           1       0.50      0.62      0.56       221\n",
            "\n",
            "    accuracy                           0.78      1000\n",
            "   macro avg       0.69      0.72      0.71      1000\n",
            "weighted avg       0.80      0.78      0.79      1000\n",
            "\n"
          ]
        }
      ]
    },
    {
      "cell_type": "markdown",
      "source": [
        "## Saving the Model\n",
        "\n",
        "This code snippet demonstrates how to save a trained model using the joblib library. The model, best_svc_clf, is saved to a file named best_svc_model.joblib, allowing for easy reuse and deployment."
      ],
      "metadata": {
        "id": "bb_K88whTliw"
      }
    },
    {
      "cell_type": "code",
      "source": [
        "import joblib\n",
        "\n",
        "# Save the model to a file\n",
        "joblib.dump(best_svc_clf, 'best_svc_model.joblib')\n",
        "print(\"Model saved to best_svc_model.joblib\")"
      ],
      "metadata": {
        "id": "IXfofYN0Tm_V"
      },
      "execution_count": null,
      "outputs": []
    },
    {
      "cell_type": "markdown",
      "source": [
        "## Conclusion\n",
        "\n",
        "In this notebook, we trained and evaluated a Support Vector Classification (SVC) model for credit default prediction. The model was trained using SMOTE to handle class imbalance and hyperparameter tuning was performed using GridSearchCV. The evaluation showed promising results with a high ROC-AUC score.\n",
        "\n",
        "## Next Steps\n",
        "\n",
        "- Experiment with different feature engineering techniques to improve model performance.\n",
        "- Try different machine learning models and compare their performance.\n",
        "- Deploy the model using a Flask API for real-time predictions."
      ],
      "metadata": {
        "id": "HDP3TC6RUctO"
      }
    }
  ]
}